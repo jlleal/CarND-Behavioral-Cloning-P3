{
 "cells": [
  {
   "cell_type": "code",
   "execution_count": 2,
   "metadata": {},
   "outputs": [
    {
     "name": "stdout",
     "output_type": "stream",
     "text": [
      "Data Loaded and separated!\n"
     ]
    }
   ],
   "source": [
    "import os\n",
    "import csv\n",
    "import numpy as np\n",
    "from sklearn.utils import shuffle\n",
    "from sklearn.model_selection import train_test_split\n",
    "\n",
    "samples = []\n",
    "\n",
    "# Storing the driving log file in Samples list to use it later.\n",
    "with open('../data2/driving_log.csv') as csvfile:\n",
    "    reader = csv.reader(csvfile)\n",
    "    for line in reader:\n",
    "        samples.append(line)\n",
    "\n",
    "# Shuffle the data and separete 80% for training and 20% for validation        \n",
    "shuffle(samples)        \n",
    "train_samples, validation_samples = train_test_split(samples, test_size=0.2)\n",
    "print(\"Data Loaded and separated!\")  "
   ]
  },
  {
   "cell_type": "code",
   "execution_count": 3,
   "metadata": {},
   "outputs": [
    {
     "name": "stdout",
     "output_type": "stream",
     "text": [
      "Generator Finished\n"
     ]
    }
   ],
   "source": [
    "# Generator\n",
    "import cv2\n",
    "import sklearn\n",
    "import matplotlib.pyplot as plt\n",
    "\n",
    "def generator(samples, batch_size=32):\n",
    "    num_samples = len(samples)\n",
    "    while 1: # Infinite loop so the generator never terminates\n",
    "        shuffle(samples)\n",
    "        for offset in range(0, num_samples, batch_size):\n",
    "            batch_samples = samples[offset:offset+batch_size]\n",
    "\n",
    "            images = []\n",
    "            angles = []\n",
    "            for batch_sample in batch_samples:\n",
    "                # We are now using the 3 images of the camera, left, center and right\n",
    "                for i in range(3):\n",
    "                    name = batch_sample[i].split('/')[-1]\n",
    "                    #center_image = cv2.cvtColor(cv2.imread(name), cv2.COLOR_BGR2RGB)\n",
    "                    center_image = cv2.imread(name)\n",
    "                    center_angle = float(batch_sample[3])\n",
    "                    images.append(center_image)\n",
    "                    images.append(cv2.flip(center_image,1))\n",
    "                    \n",
    "                    #Include an angle measurement per each camera and its counter-part(flip)\n",
    "                    if(i==0):\n",
    "                        angles.append(center_angle)\n",
    "                        angles.append(center_angle*-1.0)\n",
    "                    elif(i==1):\n",
    "                        angles.append(center_angle+0.2)\n",
    "                        angles.append((center_angle+0.2)*-1.0)\n",
    "                    elif(i==2):\n",
    "                        angles.append(center_angle-0.2)\n",
    "                        angles.append((center_angle-0.2)*-1.0)        \n",
    "                            \n",
    "            X_train = np.array(images)\n",
    "            y_train = np.array(angles)\n",
    "            \n",
    "            yield sklearn.utils.shuffle(X_train, y_train)\n",
    "    \n",
    "# Set our batch size\n",
    "batch_size=32\n",
    "\n",
    "# compile and train the model using the generator function\n",
    "train_generator = generator(train_samples, batch_size=batch_size)\n",
    "validation_generator = generator(validation_samples, batch_size=batch_size)  \n",
    "\n",
    "print(\"Generator Finished\")\n",
    "    "
   ]
  },
  {
   "cell_type": "code",
   "execution_count": 4,
   "metadata": {},
   "outputs": [
    {
     "name": "stderr",
     "output_type": "stream",
     "text": [
      "Using TensorFlow backend.\n"
     ]
    }
   ],
   "source": [
    "from keras.models import Sequential, Model\n",
    "from keras.layers import Flatten, Dense, Lambda, Dropout, Cropping2D, Activation\n",
    "from keras.layers.convolutional import Conv2D\n",
    "from keras.layers.pooling import MaxPooling2D\n",
    "\n",
    "#Start model\n",
    "model = Sequential()\n",
    "\n",
    "# Pre process each pixel\n",
    "model.add(Lambda(lambda x: (x / 255.0) - 0.5, input_shape=(160,320,3)))\n",
    "\n",
    "# Cropping unwanted part of the image\n",
    "model.add(Cropping2D(cropping=((70,25),(0,0))))\n",
    "\n",
    "#1st Convolution\n",
    "model.add(Conv2D(24, (5,5), strides=(2,2), activation=\"relu\"))\n",
    "\n",
    "#2nd Convolution\n",
    "model.add(Conv2D(36, (5,5), strides=(2,2), activation=\"relu\"))\n",
    "\n",
    "#3rd Convolution\n",
    "model.add(Conv2D(48, (5,5), strides=(2,2), activation=\"relu\"))\n",
    "\n",
    "#4thConvolution\n",
    "model.add(Conv2D(64, (3,3), activation=\"relu\"))\n",
    "\n",
    "#5th Convolution\n",
    "model.add(Conv2D(64, (3,3), activation=\"relu\"))\n",
    "\n",
    "model.add(Flatten())\n",
    "\n",
    "# 1st Fully connnected layer\n",
    "model.add(Dense(100))\n",
    "model.add(Activation(\"relu\"))\n",
    "# Dropout to prevent overfitting\n",
    "model.add(Dropout(0.25))\n",
    "\n",
    "#2nd Fully connected layer\n",
    "model.add(Dense(50))\n",
    "model.add(Activation(\"relu\"))\n",
    "\n",
    "#3erd fully connnected layer\n",
    "model.add(Dense(10))\n",
    "model.add(Activation(\"relu\"))\n",
    "\n",
    "#Final ouput of the regression problem\n",
    "model.add(Dense(1))\n"
   ]
  },
  {
   "cell_type": "code",
   "execution_count": 5,
   "metadata": {},
   "outputs": [
    {
     "name": "stdout",
     "output_type": "stream",
     "text": [
      "Epoch 1/5\n",
      "211/210 [==============================] - 412s 2s/step - loss: 0.0345 - val_loss: 0.0284\n",
      "Epoch 2/5\n",
      "211/210 [==============================] - 401s 2s/step - loss: 0.0305 - val_loss: 0.0279\n",
      "Epoch 3/5\n",
      "211/210 [==============================] - 433s 2s/step - loss: 0.0293 - val_loss: 0.0270\n",
      "Epoch 4/5\n",
      "211/210 [==============================] - 446s 2s/step - loss: 0.0285 - val_loss: 0.0269\n",
      "Epoch 5/5\n",
      "211/210 [==============================] - 443s 2s/step - loss: 0.0278 - val_loss: 0.0269\n",
      "dict_keys(['loss', 'val_loss'])\n"
     ]
    },
    {
     "data": {
      "image/png": "[encoded data removed]",
      "text/plain": [
       "<Figure size 432x288 with 1 Axes>"
      ]
     },
     "metadata": {
      "needs_background": "light"
     },
     "output_type": "display_data"
    },
    {
     "name": "stdout",
     "output_type": "stream",
     "text": [
      "Finished - model saved!\n"
     ]
    }
   ],
   "source": [
    "# Use adam optimizer instead of manual tunning of the learning rate.\n",
    "model.compile(loss='mse', optimizer='adam')\n",
    "\n",
    "# Save the history of the object to print it later\n",
    "history_object = model.fit_generator(train_generator, steps_per_epoch=len(train_samples)/batch_size, validation_data=validation_generator, validation_steps=len(validation_samples)/batch_size, epochs=5, verbose=1)\n",
    "\n",
    "### print the keys contained in the history object\n",
    "print(history_object.history.keys())\n",
    "\n",
    "### plot the training and validation loss for each epoch\n",
    "plt.plot(history_object.history['loss'])\n",
    "plt.plot(history_object.history['val_loss'])\n",
    "plt.title('model mean squared error loss')\n",
    "plt.ylabel('mean squared error loss')\n",
    "plt.xlabel('epoch')\n",
    "plt.legend(['training set', 'validation set'], loc='upper right')\n",
    "plt.show()\n",
    "\n",
    "#Saving model\n",
    "model.save('model.h5')\n",
    "\n",
    "print(\"Finished - model saved!\")"
   ]
  },
  {
   "cell_type": "code",
   "execution_count": null,
   "metadata": {
    "collapsed": true
   },
   "outputs": [],
   "source": []
  }
 ],
 "metadata": {
  "kernelspec": {
   "display_name": "Python 3",
   "language": "python",
   "name": "python3"
  },
  "language_info": {
   "codemirror_mode": {
    "name": "ipython",
    "version": 3
   },
   "file_extension": ".py",
   "mimetype": "text/x-python",
   "name": "python",
   "nbconvert_exporter": "python",
   "pygments_lexer": "ipython3",
   "version": "3.5.2"
  }
 },
 "nbformat": 4,
 "nbformat_minor": 2
}
